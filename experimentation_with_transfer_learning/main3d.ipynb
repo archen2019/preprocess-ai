{
 "metadata": {
  "language_info": {
   "codemirror_mode": {
    "name": "ipython",
    "version": 3
   },
   "file_extension": ".py",
   "mimetype": "text/x-python",
   "name": "python",
   "nbconvert_exporter": "python",
   "pygments_lexer": "ipython3",
   "version": "3.7.7-final"
  },
  "orig_nbformat": 2,
  "kernelspec": {
   "name": "python37364bitbaseconda9f3666b4f11346e19800feb8a2740791",
   "display_name": "Python 3.7.3 64-bit ('base': conda)"
  }
 },
 "nbformat": 4,
 "nbformat_minor": 2,
 "cells": [
  {
   "cell_type": "code",
   "execution_count": 9,
   "metadata": {},
   "outputs": [],
   "source": [
    "import numpy as np\n",
    "import torch as torch\n",
    "\n",
    "import model as model\n",
    "import modelBCE as modelBCE\n",
    "\n",
    "processed_data_and_labels_dict = modelBCE.processed_data_and_labels_dict"
   ]
  },
  {
   "cell_type": "code",
   "execution_count": 5,
   "metadata": {
    "tags": []
   },
   "outputs": [
    {
     "output_type": "stream",
     "name": "stdout",
     "text": "cifar10\nbees\nbirds\nbloodcells\nbreastcancer\ncaltech101\ncaltech256\ncaptcha\ncars\ncelebs\ncoil20\ncoil100\ncityscape\ndogs\nfashion_mnist\nferet\nflowers\nflickr\nfood41\nfruits\nhorsehuman\nimagenet\nintel\nkomatsuna\nlipreading\nmalaria\nmnist\nmonkey\nmscoco\nnist\nopenimg\noverhead\npascalvoc\npet\npneumonia\nskincancer\nvisualqa\nworms\n"
    }
   ],
   "source": [
    "data = np.zeros((1, 30, 224, 224), dtype='float32')\n",
    "labels = np.zeros((1, 12), dtype='int')\n",
    "for i in processed_data_and_labels_dict.keys():\n",
    "    print(i)\n",
    "    data_arr = np.load('rgbstack' + processed_data_and_labels_dict[i]['data'])\n",
    "    data = np.append(data, data_arr, axis=0)\n",
    "    labels_arr = np.load('01' + processed_data_and_labels_dict[i]['label'])\n",
    "    labels = np.append(labels, np.tile(labels_arr, (40, 1)), axis=0)\n",
    "\n",
    "data = data[1:]\n",
    "labels = labels[1:]"
   ]
  },
  {
   "cell_type": "code",
   "execution_count": 10,
   "metadata": {},
   "outputs": [],
   "source": [
    "shuffled_data = np.zeros(data.shape, dtype=data.dtype)\n",
    "shuffled_labels = np.zeros(labels.shape, dtype=labels.dtype)\n",
    "\n",
    "permutation = np.random.permutation(len(data))\n",
    "for old_index, new_index in enumerate(permutation):\n",
    "    shuffled_data[new_index] = data[old_index]\n",
    "    shuffled_labels[new_index] = labels[old_index]"
   ]
  },
  {
   "cell_type": "code",
   "execution_count": 15,
   "metadata": {},
   "outputs": [
    {
     "output_type": "execute_result",
     "data": {
      "text/plain": "<module 'modelBCE' from '/home/pranshu3/preprocess-ai/modelBCE.py'>"
     },
     "metadata": {},
     "execution_count": 15
    }
   ],
   "source": [
    "import importlib\n",
    "importlib.reload(modelBCE)"
   ]
  },
  {
   "cell_type": "code",
   "execution_count": 16,
   "metadata": {
    "tags": [
     "outputPrepend"
    ]
   },
   "outputs": [
    {
     "output_type": "stream",
     "name": "stdout",
     "text": "loss = 0.1174\n\nIteration 1265, loss = 0.0078\n\nIteration 1270, loss = 0.0055\n\nIteration 1275, loss = 0.0053\n\nIteration 1280, loss = 0.0063\n\nIteration 1285, loss = 0.0065\n\nIteration 1290, loss = 0.0049\n\nIteration 1295, loss = 0.0189\n\nIteration 1300, loss = 0.0061\n\nIteration 1305, loss = 0.0041\n\nIteration 1310, loss = 0.1126\n\nIteration 1315, loss = 0.0140\n\nIteration 1320, loss = 0.0506\n\nIteration 1325, loss = 0.0062\n\nIteration 1330, loss = 0.0148\n\nIteration 1335, loss = 0.0064\n\nIteration 1340, loss = 0.0301\n\nIteration 1345, loss = 0.0052\n\nIteration 1350, loss = 0.0142\n\nIteration 1355, loss = 0.0060\n\nIteration 1360, loss = 0.0608\n\nIteration 1365, loss = 0.0030\n\nIteration 1370, loss = 0.0539\n\nIteration 1375, loss = 0.0164\n\nIteration 1380, loss = 0.0059\n\nIteration 1385, loss = 0.0760\n\nIteration 1390, loss = 0.0053\n\nIteration 1395, loss = 0.0066\n\nIteration 1400, loss = 0.0148\n\nIteration 1405, loss = 1.0629\n\nIteration 1410, loss = 0.0050\n\nIteration 1415, loss = 0.0036\n\nIteration 1420, loss = 0.0752\n\nIteration 1425, loss = 0.0056\n\nIteration 1430, loss = 0.0051\n\nIteration 1435, loss = 0.0157\n\nIteration 1440, loss = 0.1671\n\nIteration 1445, loss = 0.0379\n\nIteration 1450, loss = 0.0667\n\nIteration 1455, loss = 0.0103\n\nIteration 1460, loss = 0.0643\n\nIteration 1465, loss = 0.0545\n\nIteration 1470, loss = 0.0554\n\nIteration 1475, loss = 0.0053\n\nIteration 1480, loss = 0.0127\n\nIteration 1485, loss = 0.0277\n\nIteration 1490, loss = 0.2679\n\nIteration 1495, loss = 0.0153\n\nIteration 1500, loss = 0.0058\n\nIteration 1505, loss = 0.0064\n\nIteration 1510, loss = 0.2184\n\nIteration 1515, loss = 0.0076\n\nIteration 0, loss = 0.0030\n\nIteration 5, loss = 0.0429\n\nIteration 10, loss = 0.0505\n\nIteration 15, loss = 0.1134\n\nIteration 20, loss = 0.0175\n\nIteration 25, loss = 0.0159\n\nIteration 30, loss = 0.0058\n\nIteration 35, loss = 0.0165\n\nIteration 40, loss = 0.0053\n\nIteration 45, loss = 0.0337\n\nIteration 50, loss = 0.0886\n\nIteration 55, loss = 0.0035\n\nIteration 60, loss = 0.0032\n\nIteration 65, loss = 0.0043\n\nIteration 70, loss = 0.0033\n\nIteration 75, loss = 0.0116\n\nIteration 80, loss = 0.0168\n\nIteration 85, loss = 0.0033\n\nIteration 90, loss = 0.0052\n\nIteration 95, loss = 0.1302\n\nIteration 100, loss = 0.0510\n\nIteration 105, loss = 0.0133\n\nIteration 110, loss = 0.1699\n\nIteration 115, loss = 0.0048\n\nIteration 120, loss = 0.0081\n\nIteration 125, loss = 0.0070\n\nIteration 130, loss = 0.0105\n\nIteration 135, loss = 0.0160\n\nIteration 140, loss = 0.0139\n\nIteration 145, loss = 0.0778\n\nIteration 150, loss = 0.0456\n\nIteration 155, loss = 0.0059\n\nIteration 160, loss = 0.0054\n\nIteration 165, loss = 0.0307\n\nIteration 170, loss = 0.0173\n\nIteration 175, loss = 0.0271\n\nIteration 180, loss = 0.0154\n\nIteration 185, loss = 0.2040\n\nIteration 190, loss = 0.0055\n\nIteration 195, loss = 0.0032\n\nIteration 200, loss = 0.0334\n\nIteration 205, loss = 0.0727\n\nIteration 210, loss = 0.0027\n\nIteration 215, loss = 0.0089\n\nIteration 220, loss = 0.0133\n\nIteration 225, loss = 0.0103\n\nIteration 230, loss = 0.0113\n\nIteration 235, loss = 0.0023\n\nIteration 240, loss = 0.0097\n\nIteration 245, loss = 0.0527\n\nIteration 250, loss = 0.0371\n\nIteration 255, loss = 0.0411\n\nIteration 260, loss = 0.0169\n\nIteration 265, loss = 0.0949\n\nIteration 270, loss = 0.1312\n\nIteration 275, loss = 0.0023\n\nIteration 280, loss = 0.0034\n\nIteration 285, loss = 0.0127\n\nIteration 290, loss = 0.0987\n\nIteration 295, loss = 0.0081\n\nIteration 300, loss = 0.0786\n\nIteration 305, loss = 0.0219\n\nIteration 310, loss = 0.0070\n\nIteration 315, loss = 0.0218\n\nIteration 320, loss = 0.0311\n\nIteration 325, loss = 0.0092\n\nIteration 330, loss = 0.0045\n\nIteration 335, loss = 0.0042\n\nIteration 340, loss = 0.1229\n\nIteration 345, loss = 0.1008\n\nIteration 350, loss = 0.0471\n\nIteration 355, loss = 0.0138\n\nIteration 360, loss = 0.0103\n\nIteration 365, loss = 0.0040\n\nIteration 370, loss = 0.1185\n\nIteration 375, loss = 0.0077\n\nIteration 380, loss = 0.0162\n\nIteration 385, loss = 0.0277\n\nIteration 390, loss = 0.0068\n\nIteration 395, loss = 0.0047\n\nIteration 400, loss = 0.0057\n\nIteration 405, loss = 0.0288\n\nIteration 410, loss = 0.0054\n\nIteration 415, loss = 0.0055\n\nIteration 420, loss = 0.0157\n\nIteration 425, loss = 0.0097\n\nIteration 430, loss = 0.2605\n\nIteration 435, loss = 0.0182\n\nIteration 440, loss = 0.2108\n\nIteration 445, loss = 0.1146\n\nIteration 450, loss = 0.0127\n\nIteration 455, loss = 0.0598\n\nIteration 460, loss = 0.0497\n\nIteration 465, loss = 0.0037\n\nIteration 470, loss = 0.1073\n\nIteration 475, loss = 0.0169\n\nIteration 480, loss = 0.0219\n\nIteration 485, loss = 0.0355\n\nIteration 490, loss = 0.3161\n\nIteration 495, loss = 0.0045\n\nIteration 500, loss = 0.0265\n\nIteration 505, loss = 0.0027\n\nIteration 510, loss = 0.0058\n\nIteration 515, loss = 0.0051\n\nIteration 520, loss = 0.0043\n\nIteration 525, loss = 0.1113\n\nIteration 530, loss = 0.0935\n\nIteration 535, loss = 0.0420\n\nIteration 540, loss = 0.0034\n\nIteration 545, loss = 0.0094\n\nIteration 550, loss = 0.0770\n\nIteration 555, loss = 0.0107\n\nIteration 560, loss = 0.0089\n\nIteration 565, loss = 0.0644\n\nIteration 570, loss = 0.0105\n\nIteration 575, loss = 0.0069\n\nIteration 580, loss = 0.0096\n\nIteration 585, loss = 0.1635\n\nIteration 590, loss = 0.1650\n\nIteration 595, loss = 0.0074\n\nIteration 600, loss = 0.0053\n\nIteration 605, loss = 0.0100\n\nIteration 610, loss = 0.0061\n\nIteration 615, loss = 0.2385\n\nIteration 620, loss = 0.0045\n\nIteration 625, loss = 0.6586\n\nIteration 630, loss = 0.0116\n\nIteration 635, loss = 0.4586\n\nIteration 640, loss = 0.0040\n\nIteration 645, loss = 0.0043\n\nIteration 650, loss = 0.0216\n\nIteration 655, loss = 0.0235\n\nIteration 660, loss = 0.0075\n\nIteration 665, loss = 0.0059\n\nIteration 670, loss = 0.1083\n\nIteration 675, loss = 0.0159\n\nIteration 680, loss = 0.0039\n\nIteration 685, loss = 0.2287\n\nIteration 690, loss = 0.0056\n\nIteration 695, loss = 0.0937\n\nIteration 700, loss = 0.0545\n\nIteration 705, loss = 0.0289\n\nIteration 710, loss = 0.0293\n\nIteration 715, loss = 0.0272\n\nIteration 720, loss = 0.0154\n\nIteration 725, loss = 0.0361\n\nIteration 730, loss = 0.0506\n\nIteration 735, loss = 0.0184\n\nIteration 740, loss = 0.0052\n\nIteration 745, loss = 0.0069\n\nIteration 750, loss = 0.0073\n\nIteration 755, loss = 0.0091\n\nIteration 760, loss = 0.0524\n\nIteration 765, loss = 0.0066\n\nIteration 770, loss = 0.0074\n\nIteration 775, loss = 0.0017\n\nIteration 780, loss = 0.1439\n\nIteration 785, loss = 0.0044\n\nIteration 790, loss = 0.0017\n\nIteration 795, loss = 0.2159\n\nIteration 800, loss = 0.0102\n\nIteration 805, loss = 0.0055\n\nIteration 810, loss = 0.1339\n\nIteration 815, loss = 0.0251\n\nIteration 820, loss = 0.0023\n\nIteration 825, loss = 0.0047\n\nIteration 830, loss = 0.0408\n\nIteration 835, loss = 0.0137\n\nIteration 840, loss = 0.0818\n\nIteration 845, loss = 0.0102\n\nIteration 850, loss = 0.0705\n\nIteration 855, loss = 0.0651\n\nIteration 860, loss = 0.0213\n\nIteration 865, loss = 0.0047\n\nIteration 870, loss = 0.1321\n\nIteration 875, loss = 0.0079\n\nIteration 880, loss = 0.0036\n\nIteration 885, loss = 0.0146\n\nIteration 890, loss = 0.0134\n\nIteration 895, loss = 0.0281\n\nIteration 900, loss = 0.1060\n\nIteration 905, loss = 0.0123\n\nIteration 910, loss = 0.0039\n\nIteration 915, loss = 0.0433\n\nIteration 920, loss = 0.0176\n\nIteration 925, loss = 0.0021\n\nIteration 930, loss = 0.0027\n\nIteration 935, loss = 0.0040\n\nIteration 940, loss = 0.0039\n\nIteration 945, loss = 0.0662\n\nIteration 950, loss = 0.0359\n\nIteration 955, loss = 0.1021\n\nIteration 960, loss = 0.0056\n\nIteration 965, loss = 0.0027\n\nIteration 970, loss = 0.0104\n\nIteration 975, loss = 0.0808\n\nIteration 980, loss = 0.1183\n\nIteration 985, loss = 0.0616\n\nIteration 990, loss = 0.0520\n\nIteration 995, loss = 0.0276\n\nIteration 1000, loss = 0.0040\n\nIteration 1005, loss = 0.0243\n\nIteration 1010, loss = 0.0017\n\nIteration 1015, loss = 0.0042\n\nIteration 1020, loss = 0.0614\n\nIteration 1025, loss = 0.2049\n\nIteration 1030, loss = 0.5188\n\nIteration 1035, loss = 0.0033\n\nIteration 1040, loss = 0.0068\n\nIteration 1045, loss = 0.0050\n\nIteration 1050, loss = 0.0973\n\nIteration 1055, loss = 0.1332\n\nIteration 1060, loss = 0.0027\n\nIteration 1065, loss = 0.0221\n\nIteration 1070, loss = 0.0617\n\nIteration 1075, loss = 0.0449\n\nIteration 1080, loss = 0.0044\n\nIteration 1085, loss = 0.0811\n\nIteration 1090, loss = 0.0099\n\nIteration 1095, loss = 0.1346\n\nIteration 1100, loss = 0.0082\n\nIteration 1105, loss = 0.3069\n\nIteration 1110, loss = 0.1498\n\nIteration 1115, loss = 0.0421\n\nIteration 1120, loss = 0.0902\n\nIteration 1125, loss = 0.0188\n\nIteration 1130, loss = 0.0198\n\nIteration 1135, loss = 0.0107\n\nIteration 1140, loss = 0.0375\n\nIteration 1145, loss = 0.0068\n\nIteration 1150, loss = 0.0041\n\nIteration 1155, loss = 0.0023\n\nIteration 1160, loss = 0.2924\n\nIteration 1165, loss = 0.0872\n\nIteration 1170, loss = 0.0518\n\nIteration 1175, loss = 0.0436\n\nIteration 1180, loss = 0.0035\n\nIteration 1185, loss = 0.0064\n\nIteration 1190, loss = 0.0323\n\nIteration 1195, loss = 0.0134\n\nIteration 1200, loss = 0.0210\n\nIteration 1205, loss = 0.0712\n\nIteration 1210, loss = 0.0710\n\nIteration 1215, loss = 0.0041\n\nIteration 1220, loss = 0.0017\n\nIteration 1225, loss = 0.0188\n\nIteration 1230, loss = 0.0636\n\nIteration 1235, loss = 0.0069\n\nIteration 1240, loss = 0.0836\n\nIteration 1245, loss = 0.0040\n\nIteration 1250, loss = 0.0565\n\nIteration 1255, loss = 0.0074\n\nIteration 1260, loss = 0.1524\n\nIteration 1265, loss = 0.0336\n\nIteration 1270, loss = 0.0031\n\nIteration 1275, loss = 0.0031\n\nIteration 1280, loss = 0.0083\n\nIteration 1285, loss = 0.0055\n\nIteration 1290, loss = 0.0032\n\nIteration 1295, loss = 0.0103\n\nIteration 1300, loss = 0.0051\n\nIteration 1305, loss = 0.0034\n\nIteration 1310, loss = 0.0538\n\nIteration 1315, loss = 0.0853\n\nIteration 1320, loss = 0.0492\n\nIteration 1325, loss = 0.0029\n\nIteration 1330, loss = 0.0120\n\nIteration 1335, loss = 0.0040\n\nIteration 1340, loss = 0.0200\n\nIteration 1345, loss = 0.0748\n\nIteration 1350, loss = 0.0118\n\nIteration 1355, loss = 0.0047\n\nIteration 1360, loss = 0.0856\n\nIteration 1365, loss = 0.0022\n\nIteration 1370, loss = 0.0322\n\nIteration 1375, loss = 0.0125\n\nIteration 1380, loss = 0.0047\n\nIteration 1385, loss = 0.0487\n\nIteration 1390, loss = 0.0044\n\nIteration 1395, loss = 0.0074\n\nIteration 1400, loss = 0.0307\n\nIteration 1405, loss = 0.3800\n\nIteration 1410, loss = 0.0044\n\nIteration 1415, loss = 0.0153\n\nIteration 1420, loss = 0.0493\n\nIteration 1425, loss = 0.0025\n\nIteration 1430, loss = 0.0041\n\nIteration 1435, loss = 0.0040\n\nIteration 1440, loss = 0.0664\n\nIteration 1445, loss = 0.1056\n\nIteration 1450, loss = 0.0454\n\nIteration 1455, loss = 0.0048\n\nIteration 1460, loss = 0.0665\n\nIteration 1465, loss = 0.0371\n\nIteration 1470, loss = 0.0365\n\nIteration 1475, loss = 0.0060\n\nIteration 1480, loss = 0.0216\n\nIteration 1485, loss = 0.0238\n\nIteration 1490, loss = 0.0618\n\nIteration 1495, loss = 0.0122\n\nIteration 1500, loss = 0.0055\n\nIteration 1505, loss = 0.0028\n\nIteration 1510, loss = 0.0696\n\nIteration 1515, loss = 0.0053\n\nIteration 0, loss = 0.1085\n\nIteration 5, loss = 0.0925\n\nIteration 10, loss = 0.0307\n\nIteration 15, loss = 0.0700\n\nIteration 20, loss = 0.0104\n\nIteration 25, loss = 0.0211\n\nIteration 30, loss = 0.0042\n\nIteration 35, loss = 0.0183\n\nIteration 40, loss = 0.0043\n\nIteration 45, loss = 0.0323\n\nIteration 50, loss = 0.0521\n\nIteration 55, loss = 0.0026\n\nIteration 60, loss = 0.0023\n\nIteration 65, loss = 0.0245\n\nIteration 70, loss = 0.0019\n\nIteration 75, loss = 0.0080\n\nIteration 80, loss = 0.0131\n\nIteration 85, loss = 0.0029\n\nIteration 90, loss = 0.0044\n\nIteration 95, loss = 0.0898\n\nIteration 100, loss = 0.0356\n\nIteration 105, loss = 0.0110\n\nIteration 110, loss = 0.0752\n\nIteration 115, loss = 0.0040\n\nIteration 120, loss = 0.0022\n\nIteration 125, loss = 0.0051\n\nIteration 130, loss = 0.0443\n\nIteration 135, loss = 0.0113\n\nIteration 140, loss = 0.0075\n\nIteration 145, loss = 0.0315\n\nIteration 150, loss = 0.0353\n\nIteration 155, loss = 0.0052\n\nIteration 160, loss = 0.0073\n\nIteration 165, loss = 0.0420\n\nIteration 170, loss = 0.0153\n\nIteration 175, loss = 0.0479\n\nIteration 180, loss = 0.0108\n\nIteration 185, loss = 0.1130\n\nIteration 190, loss = 0.0062\n\nIteration 195, loss = 0.0021\n\nIteration 200, loss = 0.0176\n\nIteration 205, loss = 0.0444\n\nIteration 210, loss = 0.0025\n\nIteration 215, loss = 0.2959\n\nIteration 220, loss = 0.0091\n\nIteration 225, loss = 0.0090\n\nIteration 230, loss = 0.2995\n\nIteration 235, loss = 0.0034\n\nIteration 240, loss = 0.0146\n\nIteration 245, loss = 0.2004\n\nIteration 250, loss = 0.1358\n\nIteration 255, loss = 0.3040\n\nIteration 260, loss = 0.0217\n\nIteration 265, loss = 0.4781\n\nIteration 270, loss = 0.0456\n\nIteration 275, loss = 0.0269\n\nIteration 280, loss = 0.0024\n\nIteration 285, loss = 0.5094\n\nIteration 290, loss = 1.7241\n\nIteration 295, loss = 0.4179\n\nIteration 300, loss = 0.0723\n\nIteration 305, loss = 0.0184\n\nIteration 310, loss = 0.0302\n\nIteration 315, loss = 0.0262\n\nIteration 320, loss = 0.0180\n\nIteration 325, loss = 0.0381\n\nIteration 330, loss = 0.0053\n\nIteration 335, loss = 0.0245\n\nIteration 340, loss = 0.0386\n\nIteration 345, loss = 0.0389\n\nIteration 350, loss = 0.0595\n\nIteration 355, loss = 0.0288\n\nIteration 360, loss = 0.0416\n\nIteration 365, loss = 0.0096\n\nIteration 370, loss = 0.0746\n\nIteration 375, loss = 0.0113\n\nIteration 380, loss = 0.0425\n\nIteration 385, loss = 0.0417\n\nIteration 390, loss = 0.0146\n\nIteration 395, loss = 0.0099\n\nIteration 400, loss = 0.0029\n\nIteration 405, loss = 0.5223\n\nIteration 410, loss = 0.0176\n\nIteration 415, loss = 0.0189\n\nIteration 420, loss = 0.0367\n\nIteration 425, loss = 0.2359\n\nIteration 430, loss = 0.1471\n\nIteration 435, loss = 0.0233\n\nIteration 440, loss = 0.4154\n\nIteration 445, loss = 0.0881\n\nIteration 450, loss = 0.0143\n\nIteration 455, loss = 0.0371\n\nIteration 460, loss = 0.1320\n\nIteration 465, loss = 0.0032\n\nIteration 470, loss = 0.0404\n\nIteration 475, loss = 0.0070\n\nIteration 480, loss = 0.0492\n\nIteration 485, loss = 0.0159\n\nIteration 490, loss = 0.0899\n\nIteration 495, loss = 0.0117\n\nIteration 500, loss = 0.0204\n\nIteration 505, loss = 0.0019\n\nIteration 510, loss = 0.0037\n\nIteration 515, loss = 0.0054\n\nIteration 520, loss = 0.0039\n\nIteration 525, loss = 0.0827\n\nIteration 530, loss = 0.1555\n\nIteration 535, loss = 0.0121\n\nIteration 540, loss = 0.0030\n\nIteration 545, loss = 0.0048\n\nIteration 550, loss = 0.0726\n\nIteration 555, loss = 0.0171\n\nIteration 560, loss = 0.0032\n\nIteration 565, loss = 0.0729\n\nIteration 570, loss = 0.0094\n\nIteration 575, loss = 0.0094\n\nIteration 580, loss = 0.0093\n\nIteration 585, loss = 0.0129\n\nIteration 590, loss = 0.0329\n\nIteration 595, loss = 0.0094\n\nIteration 600, loss = 0.0057\n\nIteration 605, loss = 0.0046\n\nIteration 610, loss = 0.0066\n\nIteration 615, loss = 0.0242\n\nIteration 620, loss = 0.0062\n\nIteration 625, loss = 0.1575\n\nIteration 630, loss = 0.0055\n\nIteration 635, loss = 0.0391\n\nIteration 640, loss = 0.0056\n\nIteration 645, loss = 0.0026\n\nIteration 650, loss = 0.0113\n\nIteration 655, loss = 0.0162\n\nIteration 660, loss = 0.0087\n\nIteration 665, loss = 0.0053\n\nIteration 670, loss = 0.1174\n\nIteration 675, loss = 0.0225\n\nIteration 680, loss = 0.0108\n\nIteration 685, loss = 0.0520\n\nIteration 690, loss = 0.0015\n\nIteration 695, loss = 0.0255\n\nIteration 700, loss = 0.0765\n\nIteration 705, loss = 0.0018\n\nIteration 710, loss = 0.0026\n\nIteration 715, loss = 0.0175\n\nIteration 720, loss = 0.0025\n\nIteration 725, loss = 0.0430\n\nIteration 730, loss = 0.0177\n\nIteration 735, loss = 0.0125\n\nIteration 740, loss = 0.0868\n\nIteration 745, loss = 0.0046\n\nIteration 750, loss = 0.0061\n\nIteration 755, loss = 0.0077\n\nIteration 760, loss = 0.0450\n\nIteration 765, loss = 0.0063\n\nIteration 770, loss = 0.0040\n\nIteration 775, loss = 0.0016\n\nIteration 780, loss = 0.0783\n\nIteration 785, loss = 0.0053\n\nIteration 790, loss = 0.0016\n\nIteration 795, loss = 0.0466\n\nIteration 800, loss = 0.0088\n\nIteration 805, loss = 0.0114\n\nIteration 810, loss = 0.0106\n\nIteration 815, loss = 0.0028\n\nIteration 820, loss = 0.0012\n\nIteration 825, loss = 0.0018\n\nIteration 830, loss = 0.0221\n\nIteration 835, loss = 0.0072\n\nIteration 840, loss = 0.0342\n\nIteration 845, loss = 0.0078\n\nIteration 850, loss = 0.0338\n\nIteration 855, loss = 0.0231\n\nIteration 860, loss = 0.0134\n\nIteration 865, loss = 0.0045\n\nIteration 870, loss = 0.0040\n\nIteration 875, loss = 0.0091\n\nIteration 880, loss = 0.0029\n\nIteration 885, loss = 0.0157\n\nIteration 890, loss = 0.0133\n\nIteration 895, loss = 0.0189\n\nIteration 900, loss = 0.0232\n\nIteration 905, loss = 0.0121\n\nIteration 910, loss = 0.0025\n\nIteration 915, loss = 0.0294\n\nIteration 920, loss = 0.0138\n\nIteration 925, loss = 0.0013\n\nIteration 930, loss = 0.0015\n\nIteration 935, loss = 0.0022\n\nIteration 940, loss = 0.0035\n\nIteration 945, loss = 0.2517\n\nIteration 950, loss = 0.0528\n\nIteration 955, loss = 0.1121\n\nIteration 960, loss = 0.0065\n\nIteration 965, loss = 0.0093\n\nIteration 970, loss = 0.0124\n\nIteration 975, loss = 0.0248\n\nIteration 980, loss = 0.0522\n\nIteration 985, loss = 0.0369\n\nIteration 990, loss = 0.0357\n\nIteration 995, loss = 0.0375\n\nIteration 1000, loss = 0.0044\n\nIteration 1005, loss = 0.5273\n\nIteration 1010, loss = 0.0053\n\nIteration 1015, loss = 0.0137\n\nIteration 1020, loss = 0.0750\n\nIteration 1025, loss = 0.1626\n\nIteration 1030, loss = 0.1059\n\nIteration 1035, loss = 0.0039\n\nIteration 1040, loss = 0.0062\n\nIteration 1045, loss = 0.0045\n\nIteration 1050, loss = 0.0560\n\nIteration 1055, loss = 0.0215\n\nIteration 1060, loss = 0.0043\n\nIteration 1065, loss = 0.0422\n\nIteration 1070, loss = 0.0220\n\nIteration 1075, loss = 0.0470\n\nIteration 1080, loss = 0.0022\n\nIteration 1085, loss = 0.0358\n\nIteration 1090, loss = 0.0084\n\nIteration 1095, loss = 0.0500\n\nIteration 1100, loss = 0.0293\n\nIteration 1105, loss = 0.0691\n\nIteration 1110, loss = 0.1183\n\nIteration 1115, loss = 0.0026\n\nIteration 1120, loss = 0.0025\n\nIteration 1125, loss = 0.0236\n\nIteration 1130, loss = 0.0125\n\nIteration 1135, loss = 0.0171\n\nIteration 1140, loss = 0.1741\n\nIteration 1145, loss = 0.0199\n\nIteration 1150, loss = 0.0043\n\nIteration 1155, loss = 0.0029\n\nIteration 1160, loss = 0.0519\n\nIteration 1165, loss = 0.0986\n\nIteration 1170, loss = 0.0462\n\nIteration 1175, loss = 0.0243\n\nIteration 1180, loss = 0.0045\n\nIteration 1185, loss = 0.0072\n\nIteration 1190, loss = 0.0380\n\nIteration 1195, loss = 0.0109\n\nIteration 1200, loss = 0.0187\n\nIteration 1205, loss = 0.0481\n\nIteration 1210, loss = 0.0479\n\nIteration 1215, loss = 0.0084\n\nIteration 1220, loss = 0.0020\n\nIteration 1225, loss = 0.0139\n\nIteration 1230, loss = 0.0069\n\nIteration 1235, loss = 0.0053\n\nIteration 1240, loss = 0.0083\n\nIteration 1245, loss = 0.0095\n\nIteration 1250, loss = 0.1017\n\nIteration 1255, loss = 0.0080\n\nIteration 1260, loss = 0.5533\n\nIteration 1265, loss = 0.1186\n\nIteration 1270, loss = 0.0032\n\nIteration 1275, loss = 0.0036\n\nIteration 1280, loss = 0.0274\n\nIteration 1285, loss = 0.0047\n\nIteration 1290, loss = 0.0047\n\nIteration 1295, loss = 0.0104\n\nIteration 1300, loss = 0.0044\n\nIteration 1305, loss = 0.0031\n\nIteration 1310, loss = 0.0264\n\nIteration 1315, loss = 0.0169\n\nIteration 1320, loss = 0.0370\n\nIteration 1325, loss = 0.0033\n\nIteration 1330, loss = 0.0136\n\nIteration 1335, loss = 0.0046\n\nIteration 1340, loss = 0.0192\n\nIteration 1345, loss = 0.0061\n\nIteration 1350, loss = 0.0125\n\nIteration 1355, loss = 0.0040\n\nIteration 1360, loss = 0.0350\n\nIteration 1365, loss = 0.0119\n\nIteration 1370, loss = 0.0801\n\nIteration 1375, loss = 0.0085\n\nIteration 1380, loss = 0.0038\n\nIteration 1385, loss = 0.2954\n\nIteration 1390, loss = 0.0047\n\nIteration 1395, loss = 0.0050\n\nIteration 1400, loss = 0.0091\n\nIteration 1405, loss = 0.0391\n\nIteration 1410, loss = 0.0051\n\nIteration 1415, loss = 0.0032\n\nIteration 1420, loss = 0.0795\n\nIteration 1425, loss = 0.0056\n\nIteration 1430, loss = 0.0040\n\nIteration 1435, loss = 0.0065\n\nIteration 1440, loss = 0.0497\n\nIteration 1445, loss = 0.0224\n\nIteration 1450, loss = 0.0342\n\nIteration 1455, loss = 0.0121\n\nIteration 1460, loss = 0.0449\n\nIteration 1465, loss = 0.0346\n\nIteration 1470, loss = 0.0518\n\nIteration 1475, loss = 0.0035\n\nIteration 1480, loss = 0.0100\n\nIteration 1485, loss = 0.0243\n\nIteration 1490, loss = 0.0268\n\nIteration 1495, loss = 0.0093\n\nIteration 1500, loss = 0.0036\n\nIteration 1505, loss = 0.0031\n\nIteration 1510, loss = 0.0447\n\nIteration 1515, loss = 0.0048\n\n"
    }
   ],
   "source": [
    "dataset = modelBCE.organize_data3d(shuffled_data, shuffled_labels)\n",
    "#model, optimizer = init_model(216, 1024, 400, 12, 1e-3)\n",
    "model_, optimizer = modelBCE.init_model3d(5e-5, 12, 4)\n",
    "modelBCE.train_model(dataset, model_, optimizer, epochs=10)"
   ]
  },
  {
   "cell_type": "code",
   "execution_count": 17,
   "metadata": {},
   "outputs": [],
   "source": [
    "with open('model3dBCE.pb', 'wb') as f:\n",
    "    torch.save(model_, f)"
   ]
  },
  {
   "cell_type": "code",
   "execution_count": null,
   "metadata": {},
   "outputs": [],
   "source": []
  }
 ]
}