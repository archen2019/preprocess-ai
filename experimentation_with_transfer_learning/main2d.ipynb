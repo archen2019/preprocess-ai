{
 "metadata": {
  "language_info": {
   "codemirror_mode": {
    "name": "ipython",
    "version": 3
   },
   "file_extension": ".py",
   "mimetype": "text/x-python",
   "name": "python",
   "nbconvert_exporter": "python",
   "pygments_lexer": "ipython3",
   "version": "3.7.7-final"
  },
  "orig_nbformat": 2,
  "kernelspec": {
   "name": "python37364bitbaseconda9f3666b4f11346e19800feb8a2740791",
   "display_name": "Python 3.7.3 64-bit ('base': conda)"
  }
 },
 "nbformat": 4,
 "nbformat_minor": 2,
 "cells": [
  {
   "cell_type": "code",
   "execution_count": 4,
   "metadata": {},
   "outputs": [],
   "source": [
    "import numpy as np\n",
    "import torch as torch\n",
    "\n",
    "import model as model\n",
    "import modelBCE as modelBCE\n",
    "\n",
    "processed_data_and_labels_dict = modelBCE.processed_data_and_labels_dict"
   ]
  },
  {
   "cell_type": "code",
   "execution_count": 5,
   "metadata": {
    "tags": []
   },
   "outputs": [
    {
     "output_type": "stream",
     "name": "stdout",
     "text": "cifar10\nbees\nbirds\nbloodcells\nbreastcancer\ncaltech101\ncaltech256\ncaptcha\ncars\ncelebs\ncoil20\ncoil100\ncityscape\ndogs\nfashion_mnist\nferet\nflowers\nflickr\nfood41\nfruits\nhorsehuman\nimagenet\nintel\nkomatsuna\nlipreading\nmalaria\nmnist\nmonkey\nmscoco\nnist\nopenimg\noverhead\npascalvoc\npet\npneumonia\nskincancer\nvisualqa\nworms\n"
    }
   ],
   "source": [
    "data = np.zeros((1, 30, 224, 224), dtype='float32')\n",
    "labels = np.zeros((1, 12), dtype='int')\n",
    "for i in processed_data_and_labels_dict.keys():\n",
    "    print(i)\n",
    "    data_arr = np.load('rgbstack' + processed_data_and_labels_dict[i]['data'])\n",
    "    data = np.append(data, data_arr, axis=0)\n",
    "    labels_arr = np.load('01' + processed_data_and_labels_dict[i]['label'])\n",
    "    labels = np.append(labels, np.tile(labels_arr, (40, 1)), axis=0)\n",
    "\n",
    "data = data[1:]\n",
    "labels = labels[1:]"
   ]
  },
  {
   "cell_type": "code",
   "execution_count": 6,
   "metadata": {},
   "outputs": [],
   "source": [
    "shuffled_data = np.zeros(data.shape, dtype=data.dtype)\n",
    "shuffled_labels = np.zeros(labels.shape, dtype=labels.dtype)\n",
    "\n",
    "permutation = np.random.permutation(len(data))\n",
    "for old_index, new_index in enumerate(permutation):\n",
    "    shuffled_data[new_index] = data[old_index]\n",
    "    shuffled_labels[new_index] = labels[old_index]"
   ]
  },
  {
   "cell_type": "code",
   "execution_count": 14,
   "metadata": {},
   "outputs": [
    {
     "output_type": "execute_result",
     "data": {
      "text/plain": "<module 'modelBCE' from '/home/pranshu3/preprocess-ai/modelBCE.py'>"
     },
     "metadata": {},
     "execution_count": 14
    }
   ],
   "source": [
    "import importlib\n",
    "importlib.reload(modelBCE)"
   ]
  },
  {
   "cell_type": "code",
   "execution_count": 15,
   "metadata": {
    "tags": [
     "outputPrepend"
    ]
   },
   "outputs": [
    {
     "output_type": "stream",
     "name": "stdout",
     "text": "loss = 0.0130\n\nIteration 1265, loss = 0.0044\n\nIteration 1270, loss = 0.0677\n\nIteration 1275, loss = 0.0129\n\nIteration 1280, loss = 0.0119\n\nIteration 1285, loss = 0.0026\n\nIteration 1290, loss = 0.0704\n\nIteration 1295, loss = 0.0019\n\nIteration 1300, loss = 0.0026\n\nIteration 1305, loss = 0.0039\n\nIteration 1310, loss = 0.0125\n\nIteration 1315, loss = 0.0056\n\nIteration 1320, loss = 0.0023\n\nIteration 1325, loss = 0.1370\n\nIteration 1330, loss = 0.0145\n\nIteration 1335, loss = 0.0061\n\nIteration 1340, loss = 0.0151\n\nIteration 1345, loss = 0.0024\n\nIteration 1350, loss = 0.0358\n\nIteration 1355, loss = 0.0369\n\nIteration 1360, loss = 0.0849\n\nIteration 1365, loss = 0.0020\n\nIteration 1370, loss = 0.0178\n\nIteration 1375, loss = 0.0047\n\nIteration 1380, loss = 0.0040\n\nIteration 1385, loss = 0.0211\n\nIteration 1390, loss = 0.0315\n\nIteration 1395, loss = 0.0011\n\nIteration 1400, loss = 0.0109\n\nIteration 1405, loss = 0.0225\n\nIteration 1410, loss = 0.0101\n\nIteration 1415, loss = 0.0050\n\nIteration 1420, loss = 0.0018\n\nIteration 1425, loss = 0.0380\n\nIteration 1430, loss = 0.0034\n\nIteration 1435, loss = 0.0122\n\nIteration 1440, loss = 0.0053\n\nIteration 1445, loss = 0.0037\n\nIteration 1450, loss = 0.0019\n\nIteration 1455, loss = 0.0272\n\nIteration 1460, loss = 0.0045\n\nIteration 1465, loss = 0.0021\n\nIteration 1470, loss = 0.0048\n\nIteration 1475, loss = 0.0030\n\nIteration 1480, loss = 0.0126\n\nIteration 1485, loss = 0.0035\n\nIteration 1490, loss = 0.0043\n\nIteration 1495, loss = 0.0051\n\nIteration 1500, loss = 0.0040\n\nIteration 1505, loss = 0.0050\n\nIteration 1510, loss = 0.0303\n\nIteration 1515, loss = 0.0045\n\nIteration 0, loss = 0.0043\n\nIteration 5, loss = 0.0062\n\nIteration 10, loss = 0.0626\n\nIteration 15, loss = 0.0127\n\nIteration 20, loss = 0.0086\n\nIteration 25, loss = 0.0089\n\nIteration 30, loss = 0.0255\n\nIteration 35, loss = 0.0142\n\nIteration 40, loss = 0.0050\n\nIteration 45, loss = 0.0239\n\nIteration 50, loss = 0.0019\n\nIteration 55, loss = 0.0440\n\nIteration 60, loss = 0.0058\n\nIteration 65, loss = 0.0039\n\nIteration 70, loss = 0.0360\n\nIteration 75, loss = 0.0122\n\nIteration 80, loss = 0.0160\n\nIteration 85, loss = 0.0191\n\nIteration 90, loss = 0.1803\n\nIteration 95, loss = 0.0174\n\nIteration 100, loss = 0.0190\n\nIteration 105, loss = 0.0031\n\nIteration 110, loss = 0.0097\n\nIteration 115, loss = 0.0032\n\nIteration 120, loss = 0.0151\n\nIteration 125, loss = 0.0020\n\nIteration 130, loss = 0.0042\n\nIteration 135, loss = 0.0052\n\nIteration 140, loss = 0.0038\n\nIteration 145, loss = 0.0074\n\nIteration 150, loss = 0.0024\n\nIteration 155, loss = 0.0036\n\nIteration 160, loss = 0.0503\n\nIteration 165, loss = 0.0021\n\nIteration 170, loss = 0.0118\n\nIteration 175, loss = 0.0205\n\nIteration 180, loss = 0.0147\n\nIteration 185, loss = 0.0145\n\nIteration 190, loss = 0.0248\n\nIteration 195, loss = 0.0254\n\nIteration 200, loss = 0.0022\n\nIteration 205, loss = 0.0047\n\nIteration 210, loss = 0.0816\n\nIteration 215, loss = 0.0014\n\nIteration 220, loss = 0.0089\n\nIteration 225, loss = 0.0045\n\nIteration 230, loss = 0.0013\n\nIteration 235, loss = 0.0154\n\nIteration 240, loss = 0.0127\n\nIteration 245, loss = 0.0219\n\nIteration 250, loss = 0.0030\n\nIteration 255, loss = 0.0223\n\nIteration 260, loss = 0.0051\n\nIteration 265, loss = 0.0013\n\nIteration 270, loss = 0.0059\n\nIteration 275, loss = 0.0152\n\nIteration 280, loss = 0.0215\n\nIteration 285, loss = 0.0038\n\nIteration 290, loss = 0.0043\n\nIteration 295, loss = 0.0155\n\nIteration 300, loss = 0.2390\n\nIteration 305, loss = 0.1082\n\nIteration 310, loss = 0.0033\n\nIteration 315, loss = 0.2978\n\nIteration 320, loss = 0.0119\n\nIteration 325, loss = 0.0744\n\nIteration 330, loss = 0.0026\n\nIteration 335, loss = 0.1179\n\nIteration 340, loss = 0.0284\n\nIteration 345, loss = 0.0254\n\nIteration 350, loss = 0.1743\n\nIteration 355, loss = 0.1301\n\nIteration 360, loss = 0.0123\n\nIteration 365, loss = 0.0184\n\nIteration 370, loss = 0.0354\n\nIteration 375, loss = 0.0265\n\nIteration 380, loss = 0.0070\n\nIteration 385, loss = 0.0111\n\nIteration 390, loss = 0.0719\n\nIteration 395, loss = 0.0473\n\nIteration 400, loss = 0.1925\n\nIteration 405, loss = 0.1354\n\nIteration 410, loss = 0.0109\n\nIteration 415, loss = 0.0073\n\nIteration 420, loss = 0.0071\n\nIteration 425, loss = 0.0090\n\nIteration 430, loss = 0.0062\n\nIteration 435, loss = 0.0058\n\nIteration 440, loss = 0.0093\n\nIteration 445, loss = 0.0043\n\nIteration 450, loss = 0.1545\n\nIteration 455, loss = 0.0857\n\nIteration 460, loss = 0.0071\n\nIteration 465, loss = 0.0046\n\nIteration 470, loss = 0.0081\n\nIteration 475, loss = 0.0314\n\nIteration 480, loss = 0.0021\n\nIteration 485, loss = 0.0054\n\nIteration 490, loss = 0.0065\n\nIteration 495, loss = 0.0055\n\nIteration 500, loss = 0.0347\n\nIteration 505, loss = 0.1853\n\nIteration 510, loss = 0.0116\n\nIteration 515, loss = 0.0037\n\nIteration 520, loss = 0.0327\n\nIteration 525, loss = 0.0182\n\nIteration 530, loss = 0.0051\n\nIteration 535, loss = 0.0495\n\nIteration 540, loss = 0.0012\n\nIteration 545, loss = 0.0263\n\nIteration 550, loss = 0.0017\n\nIteration 555, loss = 0.1035\n\nIteration 560, loss = 0.0283\n\nIteration 565, loss = 0.0429\n\nIteration 570, loss = 0.0068\n\nIteration 575, loss = 0.0013\n\nIteration 580, loss = 0.0080\n\nIteration 585, loss = 0.0214\n\nIteration 590, loss = 0.0725\n\nIteration 595, loss = 0.0089\n\nIteration 600, loss = 0.0139\n\nIteration 605, loss = 0.0018\n\nIteration 610, loss = 0.0466\n\nIteration 615, loss = 0.0137\n\nIteration 620, loss = 0.0303\n\nIteration 625, loss = 0.0080\n\nIteration 630, loss = 0.0221\n\nIteration 635, loss = 0.0049\n\nIteration 640, loss = 0.0031\n\nIteration 645, loss = 0.9221\n\nIteration 650, loss = 0.0022\n\nIteration 655, loss = 0.4300\n\nIteration 660, loss = 0.0253\n\nIteration 665, loss = 0.0206\n\nIteration 670, loss = 0.0076\n\nIteration 675, loss = 0.1060\n\nIteration 680, loss = 0.0013\n\nIteration 685, loss = 0.0051\n\nIteration 690, loss = 0.0057\n\nIteration 695, loss = 0.0030\n\nIteration 700, loss = 0.0038\n\nIteration 705, loss = 0.0118\n\nIteration 710, loss = 0.0148\n\nIteration 715, loss = 0.0240\n\nIteration 720, loss = 0.0043\n\nIteration 725, loss = 0.0053\n\nIteration 730, loss = 0.0490\n\nIteration 735, loss = 0.0037\n\nIteration 740, loss = 0.0692\n\nIteration 745, loss = 0.0040\n\nIteration 750, loss = 0.0211\n\nIteration 755, loss = 0.0178\n\nIteration 760, loss = 0.0355\n\nIteration 765, loss = 0.0118\n\nIteration 770, loss = 0.0121\n\nIteration 775, loss = 0.0047\n\nIteration 780, loss = 0.0046\n\nIteration 785, loss = 0.0197\n\nIteration 790, loss = 0.0176\n\nIteration 795, loss = 0.0042\n\nIteration 800, loss = 0.0223\n\nIteration 805, loss = 0.0057\n\nIteration 810, loss = 0.0035\n\nIteration 815, loss = 0.0403\n\nIteration 820, loss = 0.0182\n\nIteration 825, loss = 0.0110\n\nIteration 830, loss = 0.1574\n\nIteration 835, loss = 0.0125\n\nIteration 840, loss = 0.0256\n\nIteration 845, loss = 0.0042\n\nIteration 850, loss = 0.0054\n\nIteration 855, loss = 0.0020\n\nIteration 860, loss = 0.0099\n\nIteration 865, loss = 0.0052\n\nIteration 870, loss = 0.0045\n\nIteration 875, loss = 0.0170\n\nIteration 880, loss = 0.0017\n\nIteration 885, loss = 0.0082\n\nIteration 890, loss = 0.0409\n\nIteration 895, loss = 0.0487\n\nIteration 900, loss = 0.0035\n\nIteration 905, loss = 0.0056\n\nIteration 910, loss = 0.0215\n\nIteration 915, loss = 0.0104\n\nIteration 920, loss = 0.0649\n\nIteration 925, loss = 0.0043\n\nIteration 930, loss = 0.0330\n\nIteration 935, loss = 0.0037\n\nIteration 940, loss = 0.1916\n\nIteration 945, loss = 0.0844\n\nIteration 950, loss = 0.0026\n\nIteration 955, loss = 0.0073\n\nIteration 960, loss = 0.0046\n\nIteration 965, loss = 0.0050\n\nIteration 970, loss = 0.0112\n\nIteration 975, loss = 0.0040\n\nIteration 980, loss = 0.0076\n\nIteration 985, loss = 0.1100\n\nIteration 990, loss = 0.0048\n\nIteration 995, loss = 0.0056\n\nIteration 1000, loss = 0.0054\n\nIteration 1005, loss = 0.0015\n\nIteration 1010, loss = 0.0010\n\nIteration 1015, loss = 0.0016\n\nIteration 1020, loss = 0.4995\n\nIteration 1025, loss = 0.0013\n\nIteration 1030, loss = 0.0559\n\nIteration 1035, loss = 0.0051\n\nIteration 1040, loss = 0.0025\n\nIteration 1045, loss = 0.0064\n\nIteration 1050, loss = 0.0364\n\nIteration 1055, loss = 0.0018\n\nIteration 1060, loss = 0.0098\n\nIteration 1065, loss = 0.0102\n\nIteration 1070, loss = 0.0018\n\nIteration 1075, loss = 0.0704\n\nIteration 1080, loss = 0.0073\n\nIteration 1085, loss = 0.3528\n\nIteration 1090, loss = 0.0079\n\nIteration 1095, loss = 0.0976\n\nIteration 1100, loss = 0.0055\n\nIteration 1105, loss = 0.0202\n\nIteration 1110, loss = 0.0089\n\nIteration 1115, loss = 0.3773\n\nIteration 1120, loss = 0.0099\n\nIteration 1125, loss = 0.0013\n\nIteration 1130, loss = 0.1534\n\nIteration 1135, loss = 0.0300\n\nIteration 1140, loss = 0.0050\n\nIteration 1145, loss = 0.0271\n\nIteration 1150, loss = 0.0100\n\nIteration 1155, loss = 0.0666\n\nIteration 1160, loss = 0.0125\n\nIteration 1165, loss = 0.0028\n\nIteration 1170, loss = 0.0019\n\nIteration 1175, loss = 0.0129\n\nIteration 1180, loss = 0.0048\n\nIteration 1185, loss = 0.0047\n\nIteration 1190, loss = 0.0190\n\nIteration 1195, loss = 0.1086\n\nIteration 1200, loss = 0.0033\n\nIteration 1205, loss = 0.0282\n\nIteration 1210, loss = 0.0017\n\nIteration 1215, loss = 0.0047\n\nIteration 1220, loss = 0.0048\n\nIteration 1225, loss = 0.0031\n\nIteration 1230, loss = 0.0039\n\nIteration 1235, loss = 0.0048\n\nIteration 1240, loss = 0.0067\n\nIteration 1245, loss = 0.0041\n\nIteration 1250, loss = 0.0011\n\nIteration 1255, loss = 0.0029\n\nIteration 1260, loss = 0.0109\n\nIteration 1265, loss = 0.0040\n\nIteration 1270, loss = 0.2292\n\nIteration 1275, loss = 0.0112\n\nIteration 1280, loss = 0.0118\n\nIteration 1285, loss = 0.0041\n\nIteration 1290, loss = 0.0187\n\nIteration 1295, loss = 0.1656\n\nIteration 1300, loss = 0.0034\n\nIteration 1305, loss = 0.0041\n\nIteration 1310, loss = 0.0134\n\nIteration 1315, loss = 0.0038\n\nIteration 1320, loss = 0.0011\n\nIteration 1325, loss = 0.1448\n\nIteration 1330, loss = 0.0092\n\nIteration 1335, loss = 0.0048\n\nIteration 1340, loss = 0.0132\n\nIteration 1345, loss = 0.0041\n\nIteration 1350, loss = 0.0287\n\nIteration 1355, loss = 0.0183\n\nIteration 1360, loss = 0.0827\n\nIteration 1365, loss = 0.0010\n\nIteration 1370, loss = 0.0021\n\nIteration 1375, loss = 0.0033\n\nIteration 1380, loss = 0.0062\n\nIteration 1385, loss = 0.0288\n\nIteration 1390, loss = 0.0449\n\nIteration 1395, loss = 0.0008\n\nIteration 1400, loss = 0.0171\n\nIteration 1405, loss = 0.0267\n\nIteration 1410, loss = 0.0069\n\nIteration 1415, loss = 0.0037\n\nIteration 1420, loss = 0.0024\n\nIteration 1425, loss = 0.0465\n\nIteration 1430, loss = 0.0051\n\nIteration 1435, loss = 0.0107\n\nIteration 1440, loss = 0.0045\n\nIteration 1445, loss = 0.0035\n\nIteration 1450, loss = 0.0070\n\nIteration 1455, loss = 0.0147\n\nIteration 1460, loss = 0.0214\n\nIteration 1465, loss = 0.0035\n\nIteration 1470, loss = 0.0033\n\nIteration 1475, loss = 0.0032\n\nIteration 1480, loss = 0.0113\n\nIteration 1485, loss = 0.0025\n\nIteration 1490, loss = 0.0802\n\nIteration 1495, loss = 0.0040\n\nIteration 1500, loss = 0.0025\n\nIteration 1505, loss = 0.0035\n\nIteration 1510, loss = 0.0273\n\nIteration 1515, loss = 0.0044\n\nIteration 0, loss = 0.0014\n\nIteration 5, loss = 0.0070\n\nIteration 10, loss = 0.0873\n\nIteration 15, loss = 0.0029\n\nIteration 20, loss = 0.0082\n\nIteration 25, loss = 0.0032\n\nIteration 30, loss = 0.0174\n\nIteration 35, loss = 0.0108\n\nIteration 40, loss = 0.0033\n\nIteration 45, loss = 0.0187\n\nIteration 50, loss = 0.0020\n\nIteration 55, loss = 0.0250\n\nIteration 60, loss = 0.0041\n\nIteration 65, loss = 0.0027\n\nIteration 70, loss = 0.0168\n\nIteration 75, loss = 0.0104\n\nIteration 80, loss = 0.0166\n\nIteration 85, loss = 0.0615\n\nIteration 90, loss = 0.0273\n\nIteration 95, loss = 0.5783\n\nIteration 100, loss = 0.0545\n\nIteration 105, loss = 0.0031\n\nIteration 110, loss = 0.0099\n\nIteration 115, loss = 0.0085\n\nIteration 120, loss = 0.0157\n\nIteration 125, loss = 0.0013\n\nIteration 130, loss = 0.0048\n\nIteration 135, loss = 0.0071\n\nIteration 140, loss = 0.0030\n\nIteration 145, loss = 0.0311\n\nIteration 150, loss = 0.0031\n\nIteration 155, loss = 0.0039\n\nIteration 160, loss = 0.0204\n\nIteration 165, loss = 0.0301\n\nIteration 170, loss = 0.0072\n\nIteration 175, loss = 0.0676\n\nIteration 180, loss = 0.0121\n\nIteration 185, loss = 0.0090\n\nIteration 190, loss = 0.0185\n\nIteration 195, loss = 0.0207\n\nIteration 200, loss = 0.0018\n\nIteration 205, loss = 0.0034\n\nIteration 210, loss = 0.0017\n\nIteration 215, loss = 0.0013\n\nIteration 220, loss = 0.0189\n\nIteration 225, loss = 0.0486\n\nIteration 230, loss = 0.0020\n\nIteration 235, loss = 0.0369\n\nIteration 240, loss = 0.0142\n\nIteration 245, loss = 0.0458\n\nIteration 250, loss = 0.0212\n\nIteration 255, loss = 0.1473\n\nIteration 260, loss = 0.2201\n\nIteration 265, loss = 0.0014\n\nIteration 270, loss = 0.0031\n\nIteration 275, loss = 0.0024\n\nIteration 280, loss = 0.0195\n\nIteration 285, loss = 0.2272\n\nIteration 290, loss = 0.0062\n\nIteration 295, loss = 0.0045\n\nIteration 300, loss = 0.0154\n\nIteration 305, loss = 0.0046\n\nIteration 310, loss = 0.0083\n\nIteration 315, loss = 0.1092\n\nIteration 320, loss = 0.0043\n\nIteration 325, loss = 0.0243\n\nIteration 330, loss = 0.0013\n\nIteration 335, loss = 0.0021\n\nIteration 340, loss = 0.0112\n\nIteration 345, loss = 0.0029\n\nIteration 350, loss = 0.0569\n\nIteration 355, loss = 0.0170\n\nIteration 360, loss = 0.0093\n\nIteration 365, loss = 0.0027\n\nIteration 370, loss = 0.0406\n\nIteration 375, loss = 0.0045\n\nIteration 380, loss = 0.0033\n\nIteration 385, loss = 0.0171\n\nIteration 390, loss = 0.0621\n\nIteration 395, loss = 0.0063\n\nIteration 400, loss = 0.0535\n\nIteration 405, loss = 0.0636\n\nIteration 410, loss = 0.0087\n\nIteration 415, loss = 0.0377\n\nIteration 420, loss = 0.0223\n\nIteration 425, loss = 0.0106\n\nIteration 430, loss = 0.1536\n\nIteration 435, loss = 0.0958\n\nIteration 440, loss = 0.0085\n\nIteration 445, loss = 0.0028\n\nIteration 450, loss = 0.1806\n\nIteration 455, loss = 0.0188\n\nIteration 460, loss = 0.0374\n\nIteration 465, loss = 0.0029\n\nIteration 470, loss = 0.0056\n\nIteration 475, loss = 0.0239\n\nIteration 480, loss = 0.0008\n\nIteration 485, loss = 0.0011\n\nIteration 490, loss = 0.0097\n\nIteration 495, loss = 0.0292\n\nIteration 500, loss = 0.0158\n\nIteration 505, loss = 0.1595\n\nIteration 510, loss = 0.0092\n\nIteration 515, loss = 0.0036\n\nIteration 520, loss = 0.0326\n\nIteration 525, loss = 0.0084\n\nIteration 530, loss = 0.0016\n\nIteration 535, loss = 0.0183\n\nIteration 540, loss = 0.0008\n\nIteration 545, loss = 0.0183\n\nIteration 550, loss = 0.0010\n\nIteration 555, loss = 0.0187\n\nIteration 560, loss = 0.0151\n\nIteration 565, loss = 0.0347\n\nIteration 570, loss = 0.0049\n\nIteration 575, loss = 0.0009\n\nIteration 580, loss = 0.0097\n\nIteration 585, loss = 0.0166\n\nIteration 590, loss = 0.0042\n\nIteration 595, loss = 0.0071\n\nIteration 600, loss = 0.0101\n\nIteration 605, loss = 0.0016\n\nIteration 610, loss = 0.0022\n\nIteration 615, loss = 0.0241\n\nIteration 620, loss = 0.1857\n\nIteration 625, loss = 0.0073\n\nIteration 630, loss = 0.0164\n\nIteration 635, loss = 0.0114\n\nIteration 640, loss = 0.0039\n\nIteration 645, loss = 0.3171\n\nIteration 650, loss = 0.0029\n\nIteration 655, loss = 0.0363\n\nIteration 660, loss = 0.0218\n\nIteration 665, loss = 0.0050\n\nIteration 670, loss = 0.0054\n\nIteration 675, loss = 0.0039\n\nIteration 680, loss = 0.0020\n\nIteration 685, loss = 0.0066\n\nIteration 690, loss = 0.0019\n\nIteration 695, loss = 0.0022\n\nIteration 700, loss = 0.0031\n\nIteration 705, loss = 0.0067\n\nIteration 710, loss = 0.0324\n\nIteration 715, loss = 0.0219\n\nIteration 720, loss = 0.0035\n\nIteration 725, loss = 0.0055\n\nIteration 730, loss = 0.0265\n\nIteration 735, loss = 0.0096\n\nIteration 740, loss = 0.0271\n\nIteration 745, loss = 0.0100\n\nIteration 750, loss = 0.0101\n\nIteration 755, loss = 0.0116\n\nIteration 760, loss = 0.0115\n\nIteration 765, loss = 0.0016\n\nIteration 770, loss = 0.0077\n\nIteration 775, loss = 0.0090\n\nIteration 780, loss = 0.0031\n\nIteration 785, loss = 0.0074\n\nIteration 790, loss = 0.0027\n\nIteration 795, loss = 0.0158\n\nIteration 800, loss = 0.2326\n\nIteration 805, loss = 0.0054\n\nIteration 810, loss = 0.0035\n\nIteration 815, loss = 0.0324\n\nIteration 820, loss = 0.0101\n\nIteration 825, loss = 0.0076\n\nIteration 830, loss = 0.1283\n\nIteration 835, loss = 0.0104\n\nIteration 840, loss = 0.0163\n\nIteration 845, loss = 0.0084\n\nIteration 850, loss = 0.0122\n\nIteration 855, loss = 0.0013\n\nIteration 860, loss = 0.0045\n\nIteration 865, loss = 0.0115\n\nIteration 870, loss = 0.0102\n\nIteration 875, loss = 0.0081\n\nIteration 880, loss = 0.0018\n\nIteration 885, loss = 0.0047\n\nIteration 890, loss = 0.0380\n\nIteration 895, loss = 0.0045\n\nIteration 900, loss = 0.0074\n\nIteration 905, loss = 0.0043\n\nIteration 910, loss = 0.0454\n\nIteration 915, loss = 0.0071\n\nIteration 920, loss = 0.0818\n\nIteration 925, loss = 0.0022\n\nIteration 930, loss = 0.0169\n\nIteration 935, loss = 0.0022\n\nIteration 940, loss = 0.0955\n\nIteration 945, loss = 0.0291\n\nIteration 950, loss = 0.0018\n\nIteration 955, loss = 0.0085\n\nIteration 960, loss = 0.0038\n\nIteration 965, loss = 0.0470\n\nIteration 970, loss = 0.0085\n\nIteration 975, loss = 0.0071\n\nIteration 980, loss = 0.0106\n\nIteration 985, loss = 0.0597\n\nIteration 990, loss = 0.3789\n\nIteration 995, loss = 0.0185\n\nIteration 1000, loss = 0.0079\n\nIteration 1005, loss = 0.0012\n\nIteration 1010, loss = 0.0012\n\nIteration 1015, loss = 0.0029\n\nIteration 1020, loss = 0.0124\n\nIteration 1025, loss = 0.1948\n\nIteration 1030, loss = 0.1661\n\nIteration 1035, loss = 0.0040\n\nIteration 1040, loss = 0.0027\n\nIteration 1045, loss = 0.0055\n\nIteration 1050, loss = 0.0329\n\nIteration 1055, loss = 0.0013\n\nIteration 1060, loss = 0.0065\n\nIteration 1065, loss = 0.0065\n\nIteration 1070, loss = 0.0016\n\nIteration 1075, loss = 0.0071\n\nIteration 1080, loss = 0.3156\n\nIteration 1085, loss = 0.0330\n\nIteration 1090, loss = 0.0040\n\nIteration 1095, loss = 0.0635\n\nIteration 1100, loss = 0.0059\n\nIteration 1105, loss = 0.0073\n\nIteration 1110, loss = 0.0025\n\nIteration 1115, loss = 0.1929\n\nIteration 1120, loss = 0.0126\n\nIteration 1125, loss = 0.5014\n\nIteration 1130, loss = 0.0201\n\nIteration 1135, loss = 0.0138\n\nIteration 1140, loss = 0.0026\n\nIteration 1145, loss = 0.0113\n\nIteration 1150, loss = 0.0095\n\nIteration 1155, loss = 0.0672\n\nIteration 1160, loss = 0.0066\n\nIteration 1165, loss = 0.0031\n\nIteration 1170, loss = 0.0013\n\nIteration 1175, loss = 0.0084\n\nIteration 1180, loss = 0.0045\n\nIteration 1185, loss = 0.0023\n\nIteration 1190, loss = 0.0106\n\nIteration 1195, loss = 0.0020\n\nIteration 1200, loss = 0.0029\n\nIteration 1205, loss = 0.0317\n\nIteration 1210, loss = 0.1499\n\nIteration 1215, loss = 0.0070\n\nIteration 1220, loss = 0.0076\n\nIteration 1225, loss = 0.0068\n\nIteration 1230, loss = 0.0064\n\nIteration 1235, loss = 0.0079\n\nIteration 1240, loss = 0.0071\n\nIteration 1245, loss = 0.0056\n\nIteration 1250, loss = 0.0011\n\nIteration 1255, loss = 0.0025\n\nIteration 1260, loss = 0.0106\n\nIteration 1265, loss = 0.0046\n\nIteration 1270, loss = 0.0322\n\nIteration 1275, loss = 0.0243\n\nIteration 1280, loss = 0.0097\n\nIteration 1285, loss = 0.0024\n\nIteration 1290, loss = 0.0163\n\nIteration 1295, loss = 0.0024\n\nIteration 1300, loss = 0.0024\n\nIteration 1305, loss = 0.0037\n\nIteration 1310, loss = 0.0117\n\nIteration 1315, loss = 0.0055\n\nIteration 1320, loss = 0.0032\n\nIteration 1325, loss = 0.0372\n\nIteration 1330, loss = 0.0088\n\nIteration 1335, loss = 0.0067\n\nIteration 1340, loss = 0.0056\n\nIteration 1345, loss = 0.0020\n\nIteration 1350, loss = 0.0270\n\nIteration 1355, loss = 0.0031\n\nIteration 1360, loss = 0.0258\n\nIteration 1365, loss = 0.0015\n\nIteration 1370, loss = 0.0055\n\nIteration 1375, loss = 0.0058\n\nIteration 1380, loss = 0.0037\n\nIteration 1385, loss = 0.0122\n\nIteration 1390, loss = 0.0181\n\nIteration 1395, loss = 0.0007\n\nIteration 1400, loss = 0.0054\n\nIteration 1405, loss = 0.0163\n\nIteration 1410, loss = 0.0057\n\nIteration 1415, loss = 0.0050\n\nIteration 1420, loss = 0.0023\n\nIteration 1425, loss = 0.0339\n\nIteration 1430, loss = 0.0025\n\nIteration 1435, loss = 0.0050\n\nIteration 1440, loss = 0.0035\n\nIteration 1445, loss = 0.0017\n\nIteration 1450, loss = 0.0031\n\nIteration 1455, loss = 0.0135\n\nIteration 1460, loss = 0.0044\n\nIteration 1465, loss = 0.0018\n\nIteration 1470, loss = 0.0039\n\nIteration 1475, loss = 0.0020\n\nIteration 1480, loss = 0.0094\n\nIteration 1485, loss = 0.0038\n\nIteration 1490, loss = 0.0020\n\nIteration 1495, loss = 0.0046\n\nIteration 1500, loss = 0.0041\n\nIteration 1505, loss = 0.0042\n\nIteration 1510, loss = 0.0283\n\nIteration 1515, loss = 0.0068\n\n"
    }
   ],
   "source": [
    "dataset = modelBCE.organize_data(shuffled_data, shuffled_labels)\n",
    "#model, optimizer = init_model(216, 1024, 400, 12, 1e-3)\n",
    "model_, optimizer = modelBCE.init_model(5e-5, 12, 4)\n",
    "modelBCE.train_model(dataset, model_, optimizer, epochs=10)"
   ]
  },
  {
   "cell_type": "code",
   "execution_count": 16,
   "metadata": {},
   "outputs": [],
   "source": [
    "with open('model2dBCE.pb', 'wb') as f:\n",
    "    torch.save(model_, f)"
   ]
  },
  {
   "cell_type": "code",
   "execution_count": null,
   "metadata": {},
   "outputs": [],
   "source": []
  }
 ]
}