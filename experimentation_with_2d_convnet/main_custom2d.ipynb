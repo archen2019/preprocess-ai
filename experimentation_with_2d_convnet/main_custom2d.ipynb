{
 "metadata": {
  "language_info": {
   "codemirror_mode": {
    "name": "ipython",
    "version": 3
   },
   "file_extension": ".py",
   "mimetype": "text/x-python",
   "name": "python",
   "nbconvert_exporter": "python",
   "pygments_lexer": "ipython3",
   "version": 3
  },
  "orig_nbformat": 2
 },
 "nbformat": 4,
 "nbformat_minor": 2,
 "cells": [
  {
   "cell_type": "code",
   "execution_count": null,
   "metadata": {},
   "outputs": [],
   "source": [
    "import numpy as np\n",
    "import torch as torch\n",
    "\n",
    "import model_custom2d as model_custom2d\n",
    "\n",
    "processed_data_and_labels_dict = model_custom2d.processed_data_and_labels_dict"
   ]
  },
  {
   "cell_type": "code",
   "execution_count": null,
   "metadata": {},
   "outputs": [],
   "source": [
    "data = np.zeros((1, 30, 224, 224), dtype='float32')\n",
    "labels = np.zeros((1, 12), dtype='int')\n",
    "for i in processed_data_and_labels_dict.keys():\n",
    "    print(i)\n",
    "    data_arr = np.load('rgbstack' + processed_data_and_labels_dict[i]['data'])\n",
    "    data = np.append(data, data_arr, axis=0)\n",
    "    labels_arr = np.load('01' + processed_data_and_labels_dict[i]['label'])\n",
    "    labels = np.append(labels, np.tile(labels_arr, (40, 1)), axis=0)\n",
    "\n",
    "data = data[1:]\n",
    "labels = labels[1:]"
   ]
  },
  {
   "cell_type": "code",
   "execution_count": null,
   "metadata": {},
   "outputs": [],
   "source": [
    "shuffled_data = np.zeros(data.shape, dtype=data.dtype)\n",
    "shuffled_labels = np.zeros(labels.shape, dtype=labels.dtype)\n",
    "\n",
    "permutation = np.random.permutation(len(data))\n",
    "for old_index, new_index in enumerate(permutation):\n",
    "    shuffled_data[new_index] = data[old_index]\n",
    "    shuffled_labels[new_index] = labels[old_index]"
   ]
  },
  {
   "cell_type": "code",
   "execution_count": null,
   "metadata": {},
   "outputs": [],
   "source": [
    "import importlib\n",
    "importlib.reload(model_custom2d)"
   ]
  },
  {
   "cell_type": "code",
   "execution_count": null,
   "metadata": {},
   "outputs": [],
   "source": [
    "dataset = model_custom2d.organize_data(shuffled_data, shuffled_labels)\n",
    "#model, optimizer = init_model(216, 1024, 400, 12, 1e-3)\n",
    "model_, optimizer = model_custom2d.init_model()\n",
    "model_custom2d.train_model(dataset, model_, optimizer, epochs=10)\n",
    "with open('model_custom2d.pb', 'wb') as f:\n",
    "    torch.save(model_, f)"
   ]
  }
 ]
}