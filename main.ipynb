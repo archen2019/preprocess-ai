{
 "metadata": {
  "language_info": {
   "codemirror_mode": {
    "name": "ipython",
    "version": 3
   },
   "file_extension": ".py",
   "mimetype": "text/x-python",
   "name": "python",
   "nbconvert_exporter": "python",
   "pygments_lexer": "ipython3",
   "version": "3.7.7-final"
  },
  "orig_nbformat": 2,
  "kernelspec": {
   "name": "python37364bitbaseconda9f3666b4f11346e19800feb8a2740791",
   "display_name": "Python 3.7.3 64-bit ('base': conda)"
  }
 },
 "nbformat": 4,
 "nbformat_minor": 2,
 "cells": [
  {
   "cell_type": "code",
   "execution_count": 1,
   "metadata": {},
   "outputs": [],
   "source": [
    "import numpy as np\n",
    "import torch as torch\n",
    "\n",
    "import model_custom as model_custom\n",
    "\n",
    "processed_data_and_labels_dict = model_custom.processed_data_and_labels_dict"
   ]
  },
  {
   "cell_type": "code",
   "execution_count": 2,
   "metadata": {
    "tags": []
   },
   "outputs": [
    {
     "output_type": "stream",
     "name": "stdout",
     "text": "cifar10\nbees\nbirds\nbloodcells\nbreastcancer\ncaltech101\ncaltech256\ncaptcha\ncars\ncelebs\ncoil20\ncoil100\ncityscape\ndogs\nfashion_mnist\nferet\nflowers\nflickr\nfood41\nfruits\nhorsehuman\nimagenet\nintel\nkomatsuna\nlipreading\nmalaria\nmnist\nmonkey\nmscoco\nnist\nopenimg\noverhead\npascalvoc\npet\npneumonia\nskincancer\nvisualqa\nworms\n"
    }
   ],
   "source": [
    "data = np.zeros((1, 30, 224, 224), dtype='float32')\n",
    "labels = np.zeros((1, 12), dtype='int')\n",
    "for i in processed_data_and_labels_dict.keys():\n",
    "    print(i)\n",
    "    data_arr = np.load('rgbstack' + processed_data_and_labels_dict[i]['data'])\n",
    "    data = np.append(data, data_arr, axis=0)\n",
    "    labels_arr = np.load('01' + processed_data_and_labels_dict[i]['label'])\n",
    "    labels = np.append(labels, np.tile(labels_arr, (40, 1)), axis=0)\n",
    "\n",
    "data = data[1:]\n",
    "labels = labels[1:]"
   ]
  },
  {
   "cell_type": "code",
   "execution_count": 3,
   "metadata": {},
   "outputs": [],
   "source": [
    "shuffled_data = np.zeros(data.shape, dtype=data.dtype)\n",
    "shuffled_labels = np.zeros(labels.shape, dtype=labels.dtype)\n",
    "\n",
    "permutation = np.random.permutation(len(data))\n",
    "for old_index, new_index in enumerate(permutation):\n",
    "    shuffled_data[new_index] = data[old_index]\n",
    "    shuffled_labels[new_index] = labels[old_index]"
   ]
  },
  {
   "cell_type": "code",
   "execution_count": 12,
   "metadata": {},
   "outputs": [
    {
     "output_type": "execute_result",
     "data": {
      "text/plain": "<module 'model_custom' from '/home/pranshu3/preprocess-ai/model_custom.py'>"
     },
     "metadata": {},
     "execution_count": 12
    }
   ],
   "source": [
    "import importlib\n",
    "importlib.reload(model_custom)"
   ]
  },
  {
   "cell_type": "code",
   "execution_count": 13,
   "metadata": {
    "tags": []
   },
   "outputs": [
    {
     "output_type": "stream",
     "name": "stdout",
     "text": "Let's use 2 GPUs!\n"
    },
    {
     "output_type": "error",
     "ename": "RuntimeError",
     "evalue": "CUDA out of memory. Tried to allocate 1.85 GiB (GPU 0; 11.92 GiB total capacity; 9.51 GiB already allocated; 287.25 MiB free; 11.32 GiB reserved in total by PyTorch)\nException raised from malloc at /opt/conda/conda-bld/pytorch_1595629403081/work/c10/cuda/CUDACachingAllocator.cpp:272 (most recent call first):\nframe #0: c10::Error::Error(c10::SourceLocation, std::string) + 0x4d (0x7f03f7a9877d in /tmp/enter/lib/python3.7/site-packages/torch/lib/libc10.so)\nframe #1: <unknown function> + 0x20626 (0x7f03f7cf0626 in /tmp/enter/lib/python3.7/site-packages/torch/lib/libc10_cuda.so)\nframe #2: <unknown function> + 0x214f4 (0x7f03f7cf14f4 in /tmp/enter/lib/python3.7/site-packages/torch/lib/libc10_cuda.so)\nframe #3: <unknown function> + 0x21b81 (0x7f03f7cf1b81 in /tmp/enter/lib/python3.7/site-packages/torch/lib/libc10_cuda.so)\nframe #4: at::native::empty_cuda(c10::ArrayRef<long>, c10::TensorOptions const&, c10::optional<c10::MemoryFormat>) + 0x249 (0x7f03fac00c79 in /tmp/enter/lib/python3.7/site-packages/torch/lib/libtorch_cuda.so)\nframe #5: <unknown function> + 0xd25dc9 (0x7f03f8c23dc9 in /tmp/enter/lib/python3.7/site-packages/torch/lib/libtorch_cuda.so)\nframe #6: <unknown function> + 0xd3fbf7 (0x7f03f8c3dbf7 in /tmp/enter/lib/python3.7/site-packages/torch/lib/libtorch_cuda.so)\nframe #7: <unknown function> + 0xe450dd (0x7f042ad570dd in /tmp/enter/lib/python3.7/site-packages/torch/lib/libtorch_cpu.so)\nframe #8: <unknown function> + 0xe453f7 (0x7f042ad573f7 in /tmp/enter/lib/python3.7/site-packages/torch/lib/libtorch_cpu.so)\nframe #9: at::empty(c10::ArrayRef<long>, c10::TensorOptions const&, c10::optional<c10::MemoryFormat>) + 0xfa (0x7f042ae61e7a in /tmp/enter/lib/python3.7/site-packages/torch/lib/libtorch_cpu.so)\nframe #10: at::native::mm_cuda(at::Tensor const&, at::Tensor const&) + 0x6c (0x7f03f9f5330c in /tmp/enter/lib/python3.7/site-packages/torch/lib/libtorch_cuda.so)\nframe #11: <unknown function> + 0xd14ea0 (0x7f03f8c12ea0 in /tmp/enter/lib/python3.7/site-packages/torch/lib/libtorch_cuda.so)\nframe #12: <unknown function> + 0x7b1990 (0x7f042a6c3990 in /tmp/enter/lib/python3.7/site-packages/torch/lib/libtorch_cpu.so)\nframe #13: at::Tensor c10::Dispatcher::call<at::Tensor, at::Tensor const&, at::Tensor const&>(c10::TypedOperatorHandle<at::Tensor (at::Tensor const&, at::Tensor const&)> const&, at::Tensor const&, at::Tensor const&) const + 0xbc (0x7f042aeabc7c in /tmp/enter/lib/python3.7/site-packages/torch/lib/libtorch_cpu.so)\nframe #14: at::mm(at::Tensor const&, at::Tensor const&) + 0x4b (0x7f042adfcb0b in /tmp/enter/lib/python3.7/site-packages/torch/lib/libtorch_cpu.so)\nframe #15: <unknown function> + 0x2c2be8f (0x7f042cb3de8f in /tmp/enter/lib/python3.7/site-packages/torch/lib/libtorch_cpu.so)\nframe #16: <unknown function> + 0x7b1990 (0x7f042a6c3990 in /tmp/enter/lib/python3.7/site-packages/torch/lib/libtorch_cpu.so)\nframe #17: at::Tensor c10::Dispatcher::call<at::Tensor, at::Tensor const&, at::Tensor const&>(c10::TypedOperatorHandle<at::Tensor (at::Tensor const&, at::Tensor const&)> const&, at::Tensor const&, at::Tensor const&) const + 0xbc (0x7f042aeabc7c in /tmp/enter/lib/python3.7/site-packages/torch/lib/libtorch_cpu.so)\nframe #18: at::Tensor::mm(at::Tensor const&) const + 0x4b (0x7f042af9210b in /tmp/enter/lib/python3.7/site-packages/torch/lib/libtorch_cpu.so)\nframe #19: <unknown function> + 0x2a6d41b (0x7f042c97f41b in /tmp/enter/lib/python3.7/site-packages/torch/lib/libtorch_cpu.so)\nframe #20: torch::autograd::generated::AddmmBackward::apply(std::vector<at::Tensor, std::allocator<at::Tensor> >&&) + 0x2a0 (0x7f042c985020 in /tmp/enter/lib/python3.7/site-packages/torch/lib/libtorch_cpu.so)\nframe #21: <unknown function> + 0x30d1017 (0x7f042cfe3017 in /tmp/enter/lib/python3.7/site-packages/torch/lib/libtorch_cpu.so)\nframe #22: torch::autograd::Engine::evaluate_function(std::shared_ptr<torch::autograd::GraphTask>&, torch::autograd::Node*, torch::autograd::InputBuffer&, std::shared_ptr<torch::autograd::ReadyQueue> const&) + 0x1400 (0x7f042cfde860 in /tmp/enter/lib/python3.7/site-packages/torch/lib/libtorch_cpu.so)\nframe #23: torch::autograd::Engine::thread_main(std::shared_ptr<torch::autograd::GraphTask> const&) + 0x451 (0x7f042cfdf401 in /tmp/enter/lib/python3.7/site-packages/torch/lib/libtorch_cpu.so)\nframe #24: torch::autograd::Engine::thread_init(int, std::shared_ptr<torch::autograd::ReadyQueue> const&, bool) + 0x89 (0x7f042cfd7579 in /tmp/enter/lib/python3.7/site-packages/torch/lib/libtorch_cpu.so)\nframe #25: torch::autograd::python::PythonEngine::thread_init(int, std::shared_ptr<torch::autograd::ReadyQueue> const&, bool) + 0x4a (0x7f043130699a in /tmp/enter/lib/python3.7/site-packages/torch/lib/libtorch_python.so)\nframe #26: <unknown function> + 0xc819d (0x7f046eeb719d in /tmp/enter/lib/python3.7/site-packages/zmq/backend/cython/../../../../.././libstdc++.so.6)\nframe #27: <unknown function> + 0x7ea5 (0x7f04780a2ea5 in /lib64/libpthread.so.0)\nframe #28: clone + 0x6d (0x7f0477dcb8dd in /lib64/libc.so.6)\n",
     "traceback": [
      "\u001b[0;31m---------------------------------------------------------------------------\u001b[0m",
      "\u001b[0;31mRuntimeError\u001b[0m                              Traceback (most recent call last)",
      "\u001b[0;32m<ipython-input-13-03dc4f7b48c6>\u001b[0m in \u001b[0;36m<module>\u001b[0;34m\u001b[0m\n\u001b[1;32m      2\u001b[0m \u001b[0;31m#model, optimizer = init_model(216, 1024, 400, 12, 1e-3)\u001b[0m\u001b[0;34m\u001b[0m\u001b[0;34m\u001b[0m\u001b[0;34m\u001b[0m\u001b[0m\n\u001b[1;32m      3\u001b[0m \u001b[0mmodel_\u001b[0m\u001b[0;34m,\u001b[0m \u001b[0moptimizer\u001b[0m \u001b[0;34m=\u001b[0m \u001b[0mmodel_custom\u001b[0m\u001b[0;34m.\u001b[0m\u001b[0minit_model\u001b[0m\u001b[0;34m(\u001b[0m\u001b[0;34m)\u001b[0m\u001b[0;34m\u001b[0m\u001b[0;34m\u001b[0m\u001b[0m\n\u001b[0;32m----> 4\u001b[0;31m \u001b[0mmodel_custom\u001b[0m\u001b[0;34m.\u001b[0m\u001b[0mtrain_model\u001b[0m\u001b[0;34m(\u001b[0m\u001b[0mdataset\u001b[0m\u001b[0;34m,\u001b[0m \u001b[0mmodel_\u001b[0m\u001b[0;34m,\u001b[0m \u001b[0moptimizer\u001b[0m\u001b[0;34m,\u001b[0m \u001b[0mepochs\u001b[0m\u001b[0;34m=\u001b[0m\u001b[0;36m10\u001b[0m\u001b[0;34m)\u001b[0m\u001b[0;34m\u001b[0m\u001b[0;34m\u001b[0m\u001b[0m\n\u001b[0m",
      "\u001b[0;32m~/preprocess-ai/model_custom.py\u001b[0m in \u001b[0;36mtrain_model\u001b[0;34m(dataset, model, optimizer, epochs)\u001b[0m\n\u001b[1;32m     93\u001b[0m             \u001b[0moptimizer\u001b[0m\u001b[0;34m.\u001b[0m\u001b[0mzero_grad\u001b[0m\u001b[0;34m(\u001b[0m\u001b[0;34m)\u001b[0m\u001b[0;34m\u001b[0m\u001b[0;34m\u001b[0m\u001b[0m\n\u001b[1;32m     94\u001b[0m \u001b[0;34m\u001b[0m\u001b[0m\n\u001b[0;32m---> 95\u001b[0;31m             \u001b[0mloss\u001b[0m\u001b[0;34m.\u001b[0m\u001b[0mbackward\u001b[0m\u001b[0;34m(\u001b[0m\u001b[0;34m)\u001b[0m\u001b[0;34m\u001b[0m\u001b[0;34m\u001b[0m\u001b[0m\n\u001b[0m\u001b[1;32m     96\u001b[0m             \u001b[0moptimizer\u001b[0m\u001b[0;34m.\u001b[0m\u001b[0mstep\u001b[0m\u001b[0;34m(\u001b[0m\u001b[0;34m)\u001b[0m\u001b[0;34m\u001b[0m\u001b[0;34m\u001b[0m\u001b[0m\n\u001b[1;32m     97\u001b[0m \u001b[0;34m\u001b[0m\u001b[0m\n",
      "\u001b[0;32m/tmp/enter/lib/python3.7/site-packages/torch/tensor.py\u001b[0m in \u001b[0;36mbackward\u001b[0;34m(self, gradient, retain_graph, create_graph)\u001b[0m\n\u001b[1;32m    183\u001b[0m                 \u001b[0mproducts\u001b[0m\u001b[0;34m.\u001b[0m \u001b[0mDefaults\u001b[0m \u001b[0mto\u001b[0m\u001b[0;31m \u001b[0m\u001b[0;31m`\u001b[0m\u001b[0;31m`\u001b[0m\u001b[0;32mFalse\u001b[0m\u001b[0;31m`\u001b[0m\u001b[0;31m`\u001b[0m\u001b[0;34m.\u001b[0m\u001b[0;34m\u001b[0m\u001b[0;34m\u001b[0m\u001b[0m\n\u001b[1;32m    184\u001b[0m         \"\"\"\n\u001b[0;32m--> 185\u001b[0;31m         \u001b[0mtorch\u001b[0m\u001b[0;34m.\u001b[0m\u001b[0mautograd\u001b[0m\u001b[0;34m.\u001b[0m\u001b[0mbackward\u001b[0m\u001b[0;34m(\u001b[0m\u001b[0mself\u001b[0m\u001b[0;34m,\u001b[0m \u001b[0mgradient\u001b[0m\u001b[0;34m,\u001b[0m \u001b[0mretain_graph\u001b[0m\u001b[0;34m,\u001b[0m \u001b[0mcreate_graph\u001b[0m\u001b[0;34m)\u001b[0m\u001b[0;34m\u001b[0m\u001b[0;34m\u001b[0m\u001b[0m\n\u001b[0m\u001b[1;32m    186\u001b[0m \u001b[0;34m\u001b[0m\u001b[0m\n\u001b[1;32m    187\u001b[0m     \u001b[0;32mdef\u001b[0m \u001b[0mregister_hook\u001b[0m\u001b[0;34m(\u001b[0m\u001b[0mself\u001b[0m\u001b[0;34m,\u001b[0m \u001b[0mhook\u001b[0m\u001b[0;34m)\u001b[0m\u001b[0;34m:\u001b[0m\u001b[0;34m\u001b[0m\u001b[0;34m\u001b[0m\u001b[0m\n",
      "\u001b[0;32m/tmp/enter/lib/python3.7/site-packages/torch/autograd/__init__.py\u001b[0m in \u001b[0;36mbackward\u001b[0;34m(tensors, grad_tensors, retain_graph, create_graph, grad_variables)\u001b[0m\n\u001b[1;32m    125\u001b[0m     Variable._execution_engine.run_backward(\n\u001b[1;32m    126\u001b[0m         \u001b[0mtensors\u001b[0m\u001b[0;34m,\u001b[0m \u001b[0mgrad_tensors\u001b[0m\u001b[0;34m,\u001b[0m \u001b[0mretain_graph\u001b[0m\u001b[0;34m,\u001b[0m \u001b[0mcreate_graph\u001b[0m\u001b[0;34m,\u001b[0m\u001b[0;34m\u001b[0m\u001b[0;34m\u001b[0m\u001b[0m\n\u001b[0;32m--> 127\u001b[0;31m         allow_unreachable=True)  # allow_unreachable flag\n\u001b[0m\u001b[1;32m    128\u001b[0m \u001b[0;34m\u001b[0m\u001b[0m\n\u001b[1;32m    129\u001b[0m \u001b[0;34m\u001b[0m\u001b[0m\n",
      "\u001b[0;31mRuntimeError\u001b[0m: CUDA out of memory. Tried to allocate 1.85 GiB (GPU 0; 11.92 GiB total capacity; 9.51 GiB already allocated; 287.25 MiB free; 11.32 GiB reserved in total by PyTorch)\nException raised from malloc at /opt/conda/conda-bld/pytorch_1595629403081/work/c10/cuda/CUDACachingAllocator.cpp:272 (most recent call first):\nframe #0: c10::Error::Error(c10::SourceLocation, std::string) + 0x4d (0x7f03f7a9877d in /tmp/enter/lib/python3.7/site-packages/torch/lib/libc10.so)\nframe #1: <unknown function> + 0x20626 (0x7f03f7cf0626 in /tmp/enter/lib/python3.7/site-packages/torch/lib/libc10_cuda.so)\nframe #2: <unknown function> + 0x214f4 (0x7f03f7cf14f4 in /tmp/enter/lib/python3.7/site-packages/torch/lib/libc10_cuda.so)\nframe #3: <unknown function> + 0x21b81 (0x7f03f7cf1b81 in /tmp/enter/lib/python3.7/site-packages/torch/lib/libc10_cuda.so)\nframe #4: at::native::empty_cuda(c10::ArrayRef<long>, c10::TensorOptions const&, c10::optional<c10::MemoryFormat>) + 0x249 (0x7f03fac00c79 in /tmp/enter/lib/python3.7/site-packages/torch/lib/libtorch_cuda.so)\nframe #5: <unknown function> + 0xd25dc9 (0x7f03f8c23dc9 in /tmp/enter/lib/python3.7/site-packages/torch/lib/libtorch_cuda.so)\nframe #6: <unknown function> + 0xd3fbf7 (0x7f03f8c3dbf7 in /tmp/enter/lib/python3.7/site-packages/torch/lib/libtorch_cuda.so)\nframe #7: <unknown function> + 0xe450dd (0x7f042ad570dd in /tmp/enter/lib/python3.7/site-packages/torch/lib/libtorch_cpu.so)\nframe #8: <unknown function> + 0xe453f7 (0x7f042ad573f7 in /tmp/enter/lib/python3.7/site-packages/torch/lib/libtorch_cpu.so)\nframe #9: at::empty(c10::ArrayRef<long>, c10::TensorOptions const&, c10::optional<c10::MemoryFormat>) + 0xfa (0x7f042ae61e7a in /tmp/enter/lib/python3.7/site-packages/torch/lib/libtorch_cpu.so)\nframe #10: at::native::mm_cuda(at::Tensor const&, at::Tensor const&) + 0x6c (0x7f03f9f5330c in /tmp/enter/lib/python3.7/site-packages/torch/lib/libtorch_cuda.so)\nframe #11: <unknown function> + 0xd14ea0 (0x7f03f8c12ea0 in /tmp/enter/lib/python3.7/site-packages/torch/lib/libtorch_cuda.so)\nframe #12: <unknown function> + 0x7b1990 (0x7f042a6c3990 in /tmp/enter/lib/python3.7/site-packages/torch/lib/libtorch_cpu.so)\nframe #13: at::Tensor c10::Dispatcher::call<at::Tensor, at::Tensor const&, at::Tensor const&>(c10::TypedOperatorHandle<at::Tensor (at::Tensor const&, at::Tensor const&)> const&, at::Tensor const&, at::Tensor const&) const + 0xbc (0x7f042aeabc7c in /tmp/enter/lib/python3.7/site-packages/torch/lib/libtorch_cpu.so)\nframe #14: at::mm(at::Tensor const&, at::Tensor const&) + 0x4b (0x7f042adfcb0b in /tmp/enter/lib/python3.7/site-packages/torch/lib/libtorch_cpu.so)\nframe #15: <unknown function> + 0x2c2be8f (0x7f042cb3de8f in /tmp/enter/lib/python3.7/site-packages/torch/lib/libtorch_cpu.so)\nframe #16: <unknown function> + 0x7b1990 (0x7f042a6c3990 in /tmp/enter/lib/python3.7/site-packages/torch/lib/libtorch_cpu.so)\nframe #17: at::Tensor c10::Dispatcher::call<at::Tensor, at::Tensor const&, at::Tensor const&>(c10::TypedOperatorHandle<at::Tensor (at::Tensor const&, at::Tensor const&)> const&, at::Tensor const&, at::Tensor const&) const + 0xbc (0x7f042aeabc7c in /tmp/enter/lib/python3.7/site-packages/torch/lib/libtorch_cpu.so)\nframe #18: at::Tensor::mm(at::Tensor const&) const + 0x4b (0x7f042af9210b in /tmp/enter/lib/python3.7/site-packages/torch/lib/libtorch_cpu.so)\nframe #19: <unknown function> + 0x2a6d41b (0x7f042c97f41b in /tmp/enter/lib/python3.7/site-packages/torch/lib/libtorch_cpu.so)\nframe #20: torch::autograd::generated::AddmmBackward::apply(std::vector<at::Tensor, std::allocator<at::Tensor> >&&) + 0x2a0 (0x7f042c985020 in /tmp/enter/lib/python3.7/site-packages/torch/lib/libtorch_cpu.so)\nframe #21: <unknown function> + 0x30d1017 (0x7f042cfe3017 in /tmp/enter/lib/python3.7/site-packages/torch/lib/libtorch_cpu.so)\nframe #22: torch::autograd::Engine::evaluate_function(std::shared_ptr<torch::autograd::GraphTask>&, torch::autograd::Node*, torch::autograd::InputBuffer&, std::shared_ptr<torch::autograd::ReadyQueue> const&) + 0x1400 (0x7f042cfde860 in /tmp/enter/lib/python3.7/site-packages/torch/lib/libtorch_cpu.so)\nframe #23: torch::autograd::Engine::thread_main(std::shared_ptr<torch::autograd::GraphTask> const&) + 0x451 (0x7f042cfdf401 in /tmp/enter/lib/python3.7/site-packages/torch/lib/libtorch_cpu.so)\nframe #24: torch::autograd::Engine::thread_init(int, std::shared_ptr<torch::autograd::ReadyQueue> const&, bool) + 0x89 (0x7f042cfd7579 in /tmp/enter/lib/python3.7/site-packages/torch/lib/libtorch_cpu.so)\nframe #25: torch::autograd::python::PythonEngine::thread_init(int, std::shared_ptr<torch::autograd::ReadyQueue> const&, bool) + 0x4a (0x7f043130699a in /tmp/enter/lib/python3.7/site-packages/torch/lib/libtorch_python.so)\nframe #26: <unknown function> + 0xc819d (0x7f046eeb719d in /tmp/enter/lib/python3.7/site-packages/zmq/backend/cython/../../../../.././libstdc++.so.6)\nframe #27: <unknown function> + 0x7ea5 (0x7f04780a2ea5 in /lib64/libpthread.so.0)\nframe #28: clone + 0x6d (0x7f0477dcb8dd in /lib64/libc.so.6)\n"
     ]
    }
   ],
   "source": [
    "dataset = model_custom.organize_data(shuffled_data, shuffled_labels)\n",
    "#model, optimizer = init_model(216, 1024, 400, 12, 1e-3)\n",
    "model_, optimizer = model_custom.init_model()\n",
    "model_custom.train_model(dataset, model_, optimizer, epochs=10)"
   ]
  },
  {
   "cell_type": "code",
   "execution_count": 6,
   "metadata": {},
   "outputs": [],
   "source": [
    "with open('model_custom.pb', 'wb') as f:\n",
    "    torch.save(model_, f)"
   ]
  }
 ]
}